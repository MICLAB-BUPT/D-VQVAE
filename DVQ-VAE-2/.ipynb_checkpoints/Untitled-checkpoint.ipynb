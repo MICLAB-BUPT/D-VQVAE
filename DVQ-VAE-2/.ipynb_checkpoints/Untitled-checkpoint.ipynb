{
 "cells": [
  {
   "cell_type": "code",
   "execution_count": 15,
   "id": "6cf6e273-77a4-410e-9b68-db4dcbd853bf",
   "metadata": {},
   "outputs": [
    {
     "name": "stdout",
     "output_type": "stream",
     "text": [
      "torch.Size([2, 3, 5])\n",
      "tensor([[[[10, 20, 30, 40, 50],\n",
      "          [10, 20, 30, 40, 50],\n",
      "          [10, 20, 30, 40, 50]],\n",
      "\n",
      "         [[ 5,  4,  3,  2,  1],\n",
      "          [ 5,  4,  3,  2,  1],\n",
      "          [ 5,  4,  3,  2,  1]],\n",
      "\n",
      "         [[ 9,  8,  7,  6,  5],\n",
      "          [ 9,  8,  7,  6,  5],\n",
      "          [ 9,  8,  7,  6,  5]]],\n",
      "\n",
      "\n",
      "        [[[11, 12, 13, 14, 15],\n",
      "          [11, 12, 13, 14, 15],\n",
      "          [11, 12, 13, 14, 15]],\n",
      "\n",
      "         [[19, 18, 17, 16, 15],\n",
      "          [19, 18, 17, 16, 15],\n",
      "          [19, 18, 17, 16, 15]],\n",
      "\n",
      "         [[-1, -2, -3, -4, -5],\n",
      "          [-1, -2, -3, -4, -5],\n",
      "          [-1, -2, -3, -4, -5]]]])\n"
     ]
    }
   ],
   "source": [
    "import torch\n",
    "\n",
    "# 创建一个序列张量\n",
    "sequence = torch.tensor([\n",
    "                        [[10, 20, 30, 40, 50],\n",
    "                         [5,4,3,2,1],\n",
    "                         [9,8,7,6,5]],\n",
    "                        [[11,12,13,14,15],\n",
    "                        [19,18,17,16,15],\n",
    "                        [-1,-2,-3,-4,-5]]\n",
    "                        ])\n",
    "print(sequence.size())\n",
    "sequence = sequence.unsqueeze(2).expand(-1,-1,3,-1)\n",
    "print(sequence)\n",
    "# 创建一个索引张量\n",
    "indices = torch.tensor([[[0,0,2],\n",
    "                       [1,1,1,],\n",
    "                       [1,1,0]],\n",
    "                      [[1,1,0],\n",
    "                      [1,1,1],\n",
    "                      [0,0,0]]])\n",
    "indices = indices.unsqueeze(3).expand(-1,-1,-1,5)\n",
    "# 使用 torch.gather 选择序列中的元素\n",
    "selected_elements = torch.gather(sequence, dim=2, index=indices)#.permute(0,1,3,2)\n",
    "\n",
    "print(selected_elements)\n"
   ]
  },
  {
   "cell_type": "code",
   "execution_count": null,
   "id": "e83c0355-d067-47f6-9835-dd9b0723f9ca",
   "metadata": {},
   "outputs": [],
   "source": []
  }
 ],
 "metadata": {
  "kernelspec": {
   "display_name": "pytorch3d",
   "language": "python",
   "name": "pytorch3d"
  },
  "language_info": {
   "codemirror_mode": {
    "name": "ipython",
    "version": 3
   },
   "file_extension": ".py",
   "mimetype": "text/x-python",
   "name": "python",
   "nbconvert_exporter": "python",
   "pygments_lexer": "ipython3",
   "version": "3.9.17"
  }
 },
 "nbformat": 4,
 "nbformat_minor": 5
}
